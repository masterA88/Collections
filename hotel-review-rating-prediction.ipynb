{
 "cells": [
  {
   "cell_type": "markdown",
   "metadata": {
    "papermill": {
     "duration": 0.03855,
     "end_time": "2020-10-31T12:25:48.306212",
     "exception": false,
     "start_time": "2020-10-31T12:25:48.267662",
     "status": "completed"
    },
    "tags": []
   },
   "source": [
    "## Trip Advisor Hotel Review Prediction"
   ]
  },
  {
   "cell_type": "markdown",
   "metadata": {
    "papermill": {
     "duration": 0.035002,
     "end_time": "2020-10-31T12:25:48.376724",
     "exception": false,
     "start_time": "2020-10-31T12:25:48.341722",
     "status": "completed"
    },
    "tags": []
   },
   "source": [
    "### References:"
   ]
  },
  {
   "cell_type": "markdown",
   "metadata": {
    "papermill": {
     "duration": 0.035125,
     "end_time": "2020-10-31T12:25:48.448256",
     "exception": false,
     "start_time": "2020-10-31T12:25:48.413131",
     "status": "completed"
    },
    "tags": []
   },
   "source": [
    "1.https://www.kaggle.com/ruchi798/how-do-you-recognize-fake-news\n",
    "\n",
    "2.https://www.kaggle.com/anokas/data-analysis-xgboost-starter-0-35460-lb"
   ]
  },
  {
   "cell_type": "markdown",
   "metadata": {
    "papermill": {
     "duration": 0.036331,
     "end_time": "2020-10-31T12:25:48.520086",
     "exception": false,
     "start_time": "2020-10-31T12:25:48.483755",
     "status": "completed"
    },
    "tags": []
   },
   "source": [
    "In this kernel,I am going to do an analysis on the hotel reviews from Trip advisor dataset.The ratings scale is from 1-5 and there are 20491 reviews provided.\n",
    "\n",
    "#### Approach:\n",
    "\n",
    "I plan to do an n-gram and word cloud analysis to find out if the reviews could be easily differentiated with respect to their ratings.Then I plan to build basic models -TFIDF,Count vectorizer with either Logit or RandomForest.This is a multi-class classification problem."
   ]
  },
  {
   "cell_type": "markdown",
   "metadata": {
    "papermill": {
     "duration": 0.035203,
     "end_time": "2020-10-31T12:25:48.590848",
     "exception": false,
     "start_time": "2020-10-31T12:25:48.555645",
     "status": "completed"
    },
    "tags": []
   },
   "source": [
    "### Loading the data"
   ]
  },
  {
   "cell_type": "code",
   "execution_count": 1,
   "metadata": {
    "execution": {
     "iopub.execute_input": "2020-10-31T12:25:48.674858Z",
     "iopub.status.busy": "2020-10-31T12:25:48.674039Z",
     "iopub.status.idle": "2020-10-31T12:25:51.133422Z",
     "shell.execute_reply": "2020-10-31T12:25:51.132722Z"
    },
    "papermill": {
     "duration": 2.50713,
     "end_time": "2020-10-31T12:25:51.133577",
     "exception": false,
     "start_time": "2020-10-31T12:25:48.626447",
     "status": "completed"
    },
    "tags": []
   },
   "outputs": [],
   "source": [
    "import pandas as pd\n",
    "import numpy as np\n",
    "import matplotlib.pyplot as plt\n",
    "%matplotlib inline\n",
    "import seaborn as sns\n",
    "import warnings\n",
    "warnings.filterwarnings('ignore')\n",
    "from collections import Counter\n",
    "import string\n",
    "from nltk.corpus import stopwords\n",
    "import spacy\n",
    "from wordcloud import WordCloud"
   ]
  },
  {
   "cell_type": "code",
   "execution_count": 2,
   "metadata": {
    "execution": {
     "iopub.execute_input": "2020-10-31T12:25:51.221133Z",
     "iopub.status.busy": "2020-10-31T12:25:51.220316Z",
     "iopub.status.idle": "2020-10-31T12:25:51.350707Z",
     "shell.execute_reply": "2020-10-31T12:25:51.350031Z"
    },
    "papermill": {
     "duration": 0.179297,
     "end_time": "2020-10-31T12:25:51.350844",
     "exception": false,
     "start_time": "2020-10-31T12:25:51.171547",
     "status": "completed"
    },
    "tags": []
   },
   "outputs": [],
   "source": [
    "from sklearn.model_selection import StratifiedKFold\n",
    "from sklearn.ensemble import RandomForestClassifier\n",
    "from sklearn.feature_extraction.text import TfidfVectorizer,CountVectorizer\n",
    "from sklearn.linear_model import LogisticRegression\n",
    "from sklearn.metrics import log_loss,f1_score,confusion_matrix,plot_confusion_matrix\n",
    "from scipy.sparse import hstack,csr_matrix\n",
    "from tqdm import tqdm\n",
    "import operator"
   ]
  },
  {
   "cell_type": "code",
   "execution_count": 3,
   "metadata": {
    "execution": {
     "iopub.execute_input": "2020-10-31T12:25:51.432298Z",
     "iopub.status.busy": "2020-10-31T12:25:51.431542Z",
     "iopub.status.idle": "2020-10-31T12:25:51.632648Z",
     "shell.execute_reply": "2020-10-31T12:25:51.631831Z"
    },
    "papermill": {
     "duration": 0.245656,
     "end_time": "2020-10-31T12:25:51.632787",
     "exception": false,
     "start_time": "2020-10-31T12:25:51.387131",
     "status": "completed"
    },
    "tags": []
   },
   "outputs": [],
   "source": [
    "#data=pd.read_csv('../data/tripadvisor_hotel_reviews.csv')\n",
    "data=pd.read_csv('../input/trip-advisor-hotel-reviews/tripadvisor_hotel_reviews.csv')"
   ]
  },
  {
   "cell_type": "code",
   "execution_count": 4,
   "metadata": {
    "execution": {
     "iopub.execute_input": "2020-10-31T12:25:51.721756Z",
     "iopub.status.busy": "2020-10-31T12:25:51.720920Z",
     "iopub.status.idle": "2020-10-31T12:25:51.729410Z",
     "shell.execute_reply": "2020-10-31T12:25:51.730121Z"
    },
    "papermill": {
     "duration": 0.061527,
     "end_time": "2020-10-31T12:25:51.730279",
     "exception": false,
     "start_time": "2020-10-31T12:25:51.668752",
     "status": "completed"
    },
    "tags": []
   },
   "outputs": [
    {
     "data": {
      "text/html": [
       "<div>\n",
       "<style scoped>\n",
       "    .dataframe tbody tr th:only-of-type {\n",
       "        vertical-align: middle;\n",
       "    }\n",
       "\n",
       "    .dataframe tbody tr th {\n",
       "        vertical-align: top;\n",
       "    }\n",
       "\n",
       "    .dataframe thead th {\n",
       "        text-align: right;\n",
       "    }\n",
       "</style>\n",
       "<table border=\"1\" class=\"dataframe\">\n",
       "  <thead>\n",
       "    <tr style=\"text-align: right;\">\n",
       "      <th></th>\n",
       "      <th>Review</th>\n",
       "      <th>Rating</th>\n",
       "    </tr>\n",
       "  </thead>\n",
       "  <tbody>\n",
       "    <tr>\n",
       "      <th>0</th>\n",
       "      <td>nice hotel expensive parking got good deal sta...</td>\n",
       "      <td>4</td>\n",
       "    </tr>\n",
       "    <tr>\n",
       "      <th>1</th>\n",
       "      <td>ok nothing special charge diamond member hilto...</td>\n",
       "      <td>2</td>\n",
       "    </tr>\n",
       "    <tr>\n",
       "      <th>2</th>\n",
       "      <td>nice rooms not 4* experience hotel monaco seat...</td>\n",
       "      <td>3</td>\n",
       "    </tr>\n",
       "    <tr>\n",
       "      <th>3</th>\n",
       "      <td>unique, great stay, wonderful time hotel monac...</td>\n",
       "      <td>5</td>\n",
       "    </tr>\n",
       "    <tr>\n",
       "      <th>4</th>\n",
       "      <td>great stay great stay, went seahawk game aweso...</td>\n",
       "      <td>5</td>\n",
       "    </tr>\n",
       "  </tbody>\n",
       "</table>\n",
       "</div>"
      ],
      "text/plain": [
       "                                              Review  Rating\n",
       "0  nice hotel expensive parking got good deal sta...       4\n",
       "1  ok nothing special charge diamond member hilto...       2\n",
       "2  nice rooms not 4* experience hotel monaco seat...       3\n",
       "3  unique, great stay, wonderful time hotel monac...       5\n",
       "4  great stay great stay, went seahawk game aweso...       5"
      ]
     },
     "execution_count": 4,
     "metadata": {},
     "output_type": "execute_result"
    }
   ],
   "source": [
    "data.head()"
   ]
  },
  {
   "cell_type": "code",
   "execution_count": 5,
   "metadata": {
    "execution": {
     "iopub.execute_input": "2020-10-31T12:25:51.811608Z",
     "iopub.status.busy": "2020-10-31T12:25:51.810415Z",
     "iopub.status.idle": "2020-10-31T12:25:51.815089Z",
     "shell.execute_reply": "2020-10-31T12:25:51.814478Z"
    },
    "papermill": {
     "duration": 0.047717,
     "end_time": "2020-10-31T12:25:51.815220",
     "exception": false,
     "start_time": "2020-10-31T12:25:51.767503",
     "status": "completed"
    },
    "tags": []
   },
   "outputs": [
    {
     "data": {
      "text/plain": [
       "(20491, 2)"
      ]
     },
     "execution_count": 5,
     "metadata": {},
     "output_type": "execute_result"
    }
   ],
   "source": [
    "data.shape"
   ]
  },
  {
   "cell_type": "markdown",
   "metadata": {
    "papermill": {
     "duration": 0.03694,
     "end_time": "2020-10-31T12:25:51.889698",
     "exception": false,
     "start_time": "2020-10-31T12:25:51.852758",
     "status": "completed"
    },
    "tags": []
   },
   "source": [
    "### Data Cleaning and handling missing values (if any)"
   ]
  },
  {
   "cell_type": "code",
   "execution_count": 6,
   "metadata": {
    "execution": {
     "iopub.execute_input": "2020-10-31T12:25:51.977897Z",
     "iopub.status.busy": "2020-10-31T12:25:51.976721Z",
     "iopub.status.idle": "2020-10-31T12:25:51.981240Z",
     "shell.execute_reply": "2020-10-31T12:25:51.981918Z"
    },
    "papermill": {
     "duration": 0.054894,
     "end_time": "2020-10-31T12:25:51.982098",
     "exception": false,
     "start_time": "2020-10-31T12:25:51.927204",
     "status": "completed"
    },
    "tags": []
   },
   "outputs": [
    {
     "data": {
      "text/plain": [
       "Review    0\n",
       "Rating    0\n",
       "dtype: int64"
      ]
     },
     "execution_count": 6,
     "metadata": {},
     "output_type": "execute_result"
    }
   ],
   "source": [
    "data.isna().sum()"
   ]
  },
  {
   "cell_type": "markdown",
   "metadata": {
    "papermill": {
     "duration": 0.037621,
     "end_time": "2020-10-31T12:25:52.058332",
     "exception": false,
     "start_time": "2020-10-31T12:25:52.020711",
     "status": "completed"
    },
    "tags": []
   },
   "source": [
    "There are no null values in either of the columns."
   ]
  },
  {
   "cell_type": "code",
   "execution_count": 7,
   "metadata": {
    "execution": {
     "iopub.execute_input": "2020-10-31T12:25:52.142192Z",
     "iopub.status.busy": "2020-10-31T12:25:52.141047Z",
     "iopub.status.idle": "2020-10-31T12:25:52.369926Z",
     "shell.execute_reply": "2020-10-31T12:25:52.370515Z"
    },
    "papermill": {
     "duration": 0.274272,
     "end_time": "2020-10-31T12:25:52.370694",
     "exception": false,
     "start_time": "2020-10-31T12:25:52.096422",
     "status": "completed"
    },
    "tags": []
   },
   "outputs": [
    {
     "data": {
      "text/plain": [
       "Text(0, 0.5, 'Count')"
      ]
     },
     "execution_count": 7,
     "metadata": {},
     "output_type": "execute_result"
    },
    {
     "data": {
      "image/png": "[encoded data removed]",
      "text/plain": [
       "<Figure size 576x576 with 1 Axes>"
      ]
     },
     "metadata": {
      "needs_background": "light"
     },
     "output_type": "display_data"
    }
   ],
   "source": [
    "plt.figure(figsize=(8,8))\n",
    "sns.countplot(data['Rating'])\n",
    "plt.title('Ratings Count in the dataset',fontsize=15)\n",
    "plt.xlabel('Rating',fontsize=8)\n",
    "plt.ylabel('Count',fontsize=8)"
   ]
  },
  {
   "cell_type": "code",
   "execution_count": 8,
   "metadata": {
    "execution": {
     "iopub.execute_input": "2020-10-31T12:25:52.456998Z",
     "iopub.status.busy": "2020-10-31T12:25:52.456197Z",
     "iopub.status.idle": "2020-10-31T12:25:52.481488Z",
     "shell.execute_reply": "2020-10-31T12:25:52.480727Z"
    },
    "papermill": {
     "duration": 0.070658,
     "end_time": "2020-10-31T12:25:52.481615",
     "exception": false,
     "start_time": "2020-10-31T12:25:52.410957",
     "status": "completed"
    },
    "tags": []
   },
   "outputs": [
    {
     "data": {
      "text/plain": [
       "5    44.185252\n",
       "4    29.471475\n",
       "3    10.658338\n",
       "2     8.750183\n",
       "1     6.934752\n",
       "Name: Rating, dtype: float64"
      ]
     },
     "execution_count": 8,
     "metadata": {},
     "output_type": "execute_result"
    }
   ],
   "source": [
    "(data['Rating'].value_counts()/data.shape[0])*100"
   ]
  },
  {
   "cell_type": "code",
   "execution_count": 9,
   "metadata": {
    "execution": {
     "iopub.execute_input": "2020-10-31T12:25:52.584266Z",
     "iopub.status.busy": "2020-10-31T12:25:52.583407Z",
     "iopub.status.idle": "2020-10-31T12:25:52.588509Z",
     "shell.execute_reply": "2020-10-31T12:25:52.587760Z"
    },
    "papermill": {
     "duration": 0.056212,
     "end_time": "2020-10-31T12:25:52.588632",
     "exception": false,
     "start_time": "2020-10-31T12:25:52.532420",
     "status": "completed"
    },
    "tags": []
   },
   "outputs": [
    {
     "data": {
      "text/plain": [
       "['nice hotel expensive parking got good deal stay hotel anniversary, arrived late evening took advice previous reviews did valet parking, check quick easy, little disappointed non-existent view room room clean nice size, bed comfortable woke stiff neck high pillows, not soundproof like heard music room night morning loud bangs doors opening closing hear people talking hallway, maybe just noisy neighbors, aveda bath products nice, did not goldfish stay nice touch taken advantage staying longer, location great walking distance shopping, overall nice experience having pay 40 parking night,  ',\n",
       " 'ok nothing special charge diamond member hilton decided chain shot 20th anniversary seattle, start booked suite paid extra website description not, suite bedroom bathroom standard hotel room, took printed reservation desk showed said things like tv couch ect desk clerk told oh mixed suites description kimpton website sorry free breakfast, got kidding, embassy suits sitting room bathroom bedroom unlike kimpton calls suite, 5 day stay offer correct false advertising, send kimpton preferred guest website email asking failure provide suite advertised website reservation description furnished hard copy reservation printout website desk manager duty did not reply solution, send email trip guest survey did not follow email mail, guess tell concerned guest.the staff ranged indifferent not helpful, asked desk good breakfast spots neighborhood hood told no hotels, gee best breakfast spots seattle 1/2 block away convenient hotel does not know exist, arrived late night 11 pm inside run bellman busy chating cell phone help bags.prior arrival emailed hotel inform 20th anniversary half really picky wanted make sure good, got nice email saying like deliver bottle champagne chocolate covered strawberries room arrival celebrate, told needed foam pillows, arrival no champagne strawberries no foam pillows great room view alley high rise building good not better housekeeping staff cleaner room property, impressed left morning shopping room got short trips 2 hours, beds comfortable.not good ac-heat control 4 x 4 inch screen bring green shine directly eyes night, light sensitive tape controls.this not 4 start hotel clean business hotel super high rates, better chain hotels seattle,  ',\n",
       " \"nice rooms not 4* experience hotel monaco seattle good hotel n't 4* level.positives large bathroom mediterranean suite comfortable bed pillowsattentive housekeeping staffnegatives ac unit malfunctioned stay desk disorganized, missed 3 separate wakeup calls, concierge busy hard touch, did n't provide guidance special requests.tv hard use ipod sound dock suite non functioning. decided book mediterranean suite 3 night weekend stay 1st choice rest party filled, comparison w spent 45 night larger square footage room great soaking tub whirlpool jets nice shower.before stay hotel arrange car service price 53 tip reasonable driver waiting arrival.checkin easy downside room picked 2 person jacuzi tub no bath accessories salts bubble bath did n't stay, night got 12/1a checked voucher bottle champagne nice gesture fish waiting room, impression room huge open space felt room big, tv far away bed chore change channel, ipod dock broken disappointing.in morning way asked desk check thermostat said 65f 74 2 degrees warm try cover face night bright blue light kept, got room night no, 1st drop desk, called maintainence came look thermostat told play settings happy digital box wo n't work, asked wakeup 10am morning did n't happen, called later 6pm nap wakeup forgot, 10am wakeup morning yep forgotten.the bathroom facilities great room surprised room sold whirlpool bath tub n't bath amenities, great relax water jets going,  \"]"
      ]
     },
     "execution_count": 9,
     "metadata": {},
     "output_type": "execute_result"
    }
   ],
   "source": [
    "list(data['Review'])[:3]"
   ]
  },
  {
   "cell_type": "markdown",
   "metadata": {
    "papermill": {
     "duration": 0.040174,
     "end_time": "2020-10-31T12:25:52.669618",
     "exception": false,
     "start_time": "2020-10-31T12:25:52.629444",
     "status": "completed"
    },
    "tags": []
   },
   "source": [
    "44 % of the dataset has reviews with rating 5 while 29 % of the datset has reviews with rating 4."
   ]
  },
  {
   "cell_type": "markdown",
   "metadata": {
    "papermill": {
     "duration": 0.040036,
     "end_time": "2020-10-31T12:25:52.750064",
     "exception": false,
     "start_time": "2020-10-31T12:25:52.710028",
     "status": "completed"
    },
    "tags": []
   },
   "source": [
    "## n-gram Analysis"
   ]
  },
  {
   "cell_type": "code",
   "execution_count": 10,
   "metadata": {
    "execution": {
     "iopub.execute_input": "2020-10-31T12:25:52.837428Z",
     "iopub.status.busy": "2020-10-31T12:25:52.836633Z",
     "iopub.status.idle": "2020-10-31T12:25:52.845772Z",
     "shell.execute_reply": "2020-10-31T12:25:52.845070Z"
    },
    "papermill": {
     "duration": 0.055177,
     "end_time": "2020-10-31T12:25:52.845901",
     "exception": false,
     "start_time": "2020-10-31T12:25:52.790724",
     "status": "completed"
    },
    "tags": []
   },
   "outputs": [],
   "source": [
    "stopwrds=set(stopwords.words(\"english\"))"
   ]
  },
  {
   "cell_type": "code",
   "execution_count": 11,
   "metadata": {
    "execution": {
     "iopub.execute_input": "2020-10-31T12:25:52.938170Z",
     "iopub.status.busy": "2020-10-31T12:25:52.937090Z",
     "iopub.status.idle": "2020-10-31T12:25:52.940997Z",
     "shell.execute_reply": "2020-10-31T12:25:52.940356Z"
    },
    "papermill": {
     "duration": 0.05409,
     "end_time": "2020-10-31T12:25:52.941142",
     "exception": false,
     "start_time": "2020-10-31T12:25:52.887052",
     "status": "completed"
    },
    "tags": []
   },
   "outputs": [],
   "source": [
    "#https://www.kaggle.com/ruchi798/how-do-you-recognize-fake-news\n",
    "def get_bigram(df,n):\n",
    "   \n",
    "    vec=CountVectorizer(ngram_range=(2,2),stop_words=stopwrds).fit(df)\n",
    "    bag_of_words=vec.transform(df)\n",
    "    sum_words=bag_of_words.sum(0)\n",
    "    word_freq=[(word,sum_words[0,idx]) for word,idx in vec.vocabulary_.items()]\n",
    "    word_freq=sorted(word_freq,key=lambda x:x[1],reverse=True)\n",
    "    return word_freq[:n]"
   ]
  },
  {
   "cell_type": "code",
   "execution_count": 12,
   "metadata": {
    "execution": {
     "iopub.execute_input": "2020-10-31T12:25:53.037851Z",
     "iopub.status.busy": "2020-10-31T12:25:53.031618Z",
     "iopub.status.idle": "2020-10-31T12:25:54.477325Z",
     "shell.execute_reply": "2020-10-31T12:25:54.476582Z"
    },
    "papermill": {
     "duration": 1.494496,
     "end_time": "2020-10-31T12:25:54.477487",
     "exception": false,
     "start_time": "2020-10-31T12:25:52.982991",
     "status": "completed"
    },
    "tags": []
   },
   "outputs": [
    {
     "data": {
      "text/plain": [
       "[('punta cana', 151),\n",
       " ('credit card', 114),\n",
       " ('customer service', 108),\n",
       " ('stay away', 80),\n",
       " ('air conditioning', 78),\n",
       " ('travel agent', 66),\n",
       " ('san juan', 62),\n",
       " ('hot water', 61),\n",
       " ('desk staff', 57),\n",
       " ('new orleans', 54)]"
      ]
     },
     "execution_count": 12,
     "metadata": {},
     "output_type": "execute_result"
    }
   ],
   "source": [
    "bigram_rat1=get_bigram(data.loc[data['Rating']==1,'Review'].apply(lambda x:\" \".join(sent for sent in x.split() if sent not in ['did','not','hotel','room','does'])),10)\n",
    "bigram_rat1"
   ]
  },
  {
   "cell_type": "code",
   "execution_count": 13,
   "metadata": {
    "execution": {
     "iopub.execute_input": "2020-10-31T12:25:54.579832Z",
     "iopub.status.busy": "2020-10-31T12:25:54.568804Z",
     "iopub.status.idle": "2020-10-31T12:25:56.606183Z",
     "shell.execute_reply": "2020-10-31T12:25:56.605361Z"
    },
    "papermill": {
     "duration": 2.086368,
     "end_time": "2020-10-31T12:25:56.606320",
     "exception": false,
     "start_time": "2020-10-31T12:25:54.519952",
     "status": "completed"
    },
    "tags": []
   },
   "outputs": [
    {
     "data": {
      "text/plain": [
       "[('punta cana', 201),\n",
       " ('air conditioning', 142),\n",
       " ('staff friendly', 128),\n",
       " ('san juan', 100),\n",
       " ('great location', 97),\n",
       " ('make sure', 89),\n",
       " ('stayed nights', 88),\n",
       " ('good location', 78),\n",
       " ('customer service', 75),\n",
       " ('non smoking', 73)]"
      ]
     },
     "execution_count": 13,
     "metadata": {},
     "output_type": "execute_result"
    }
   ],
   "source": [
    "bigram_rat2=get_bigram(data.loc[data['Rating']==2,'Review'].apply(lambda x:\" \".join(sent for sent in x.split() if sent not in ['did','not','hotel','room','does'])),10)\n",
    "bigram_rat2"
   ]
  },
  {
   "cell_type": "code",
   "execution_count": 14,
   "metadata": {
    "execution": {
     "iopub.execute_input": "2020-10-31T12:25:56.699891Z",
     "iopub.status.busy": "2020-10-31T12:25:56.698823Z",
     "iopub.status.idle": "2020-10-31T12:25:58.933019Z",
     "shell.execute_reply": "2020-10-31T12:25:58.932238Z"
    },
    "papermill": {
     "duration": 2.284317,
     "end_time": "2020-10-31T12:25:58.933149",
     "exception": false,
     "start_time": "2020-10-31T12:25:56.648832",
     "status": "completed"
    },
    "tags": []
   },
   "outputs": [
    {
     "data": {
      "text/plain": [
       "[('great location', 251),\n",
       " ('staff friendly', 242),\n",
       " ('punta cana', 207),\n",
       " ('good location', 176),\n",
       " ('stayed nights', 146),\n",
       " ('walking distance', 135),\n",
       " ('san juan', 130),\n",
       " ('good value', 122),\n",
       " ('location great', 114),\n",
       " ('make sure', 114)]"
      ]
     },
     "execution_count": 14,
     "metadata": {},
     "output_type": "execute_result"
    }
   ],
   "source": [
    "bigram_rat3=get_bigram(data.loc[data['Rating']==3,'Review'].apply(lambda x:\" \".join(sent for sent in x.split() if sent not in ['did','not','hotel','room','does'])),10)\n",
    "bigram_rat3"
   ]
  },
  {
   "cell_type": "code",
   "execution_count": 15,
   "metadata": {
    "execution": {
     "iopub.execute_input": "2020-10-31T12:25:59.076867Z",
     "iopub.status.busy": "2020-10-31T12:25:59.059530Z",
     "iopub.status.idle": "2020-10-31T12:26:04.856013Z",
     "shell.execute_reply": "2020-10-31T12:26:04.855229Z"
    },
    "papermill": {
     "duration": 5.872077,
     "end_time": "2020-10-31T12:26:04.856143",
     "exception": false,
     "start_time": "2020-10-31T12:25:58.984066",
     "status": "completed"
    },
    "tags": []
   },
   "outputs": [
    {
     "data": {
      "text/plain": [
       "[('great location', 845),\n",
       " ('staff friendly', 763),\n",
       " ('punta cana', 565),\n",
       " ('walking distance', 528),\n",
       " ('friendly helpful', 503),\n",
       " ('staff helpful', 416),\n",
       " ('good value', 414),\n",
       " ('stayed nights', 409),\n",
       " ('minute walk', 402),\n",
       " ('great time', 401)]"
      ]
     },
     "execution_count": 15,
     "metadata": {},
     "output_type": "execute_result"
    }
   ],
   "source": [
    "bigram_rat4=get_bigram(data.loc[data['Rating']==4,'Review'].apply(lambda x:\" \".join(sent for sent in x.split() if sent not in ['did','not','hotel','room','does'])),10)\n",
    "bigram_rat4"
   ]
  },
  {
   "cell_type": "code",
   "execution_count": 16,
   "metadata": {
    "execution": {
     "iopub.execute_input": "2020-10-31T12:26:04.950843Z",
     "iopub.status.busy": "2020-10-31T12:26:04.949857Z",
     "iopub.status.idle": "2020-10-31T12:26:12.330535Z",
     "shell.execute_reply": "2020-10-31T12:26:12.331186Z"
    },
    "papermill": {
     "duration": 7.431802,
     "end_time": "2020-10-31T12:26:12.331360",
     "exception": false,
     "start_time": "2020-10-31T12:26:04.899558",
     "status": "completed"
    },
    "tags": []
   },
   "outputs": [
    {
     "data": {
      "text/plain": [
       "[('great location', 1014),\n",
       " ('staff friendly', 1013),\n",
       " ('friendly helpful', 777),\n",
       " ('highly recommend', 736),\n",
       " ('walking distance', 735),\n",
       " ('punta cana', 603),\n",
       " ('staff helpful', 540),\n",
       " ('place stay', 540),\n",
       " ('stayed nights', 511),\n",
       " ('minute walk', 511)]"
      ]
     },
     "execution_count": 16,
     "metadata": {},
     "output_type": "execute_result"
    }
   ],
   "source": [
    "bigram_rat5=get_bigram(data.loc[data['Rating']==5,'Review'].apply(lambda x:\" \".join(sent for sent in x.split() if sent not in ['did','not','hotel','room','does'])),10)\n",
    "bigram_rat5"
   ]
  },
  {
   "cell_type": "code",
   "execution_count": 17,
   "metadata": {
    "execution": {
     "iopub.execute_input": "2020-10-31T12:26:12.429268Z",
     "iopub.status.busy": "2020-10-31T12:26:12.428479Z",
     "iopub.status.idle": "2020-10-31T12:26:12.434703Z",
     "shell.execute_reply": "2020-10-31T12:26:12.433916Z"
    },
    "papermill": {
     "duration": 0.057825,
     "end_time": "2020-10-31T12:26:12.434836",
     "exception": false,
     "start_time": "2020-10-31T12:26:12.377011",
     "status": "completed"
    },
    "tags": []
   },
   "outputs": [
    {
     "data": {
      "text/plain": [
       "{'great location',\n",
       " 'punta cana',\n",
       " 'staff friendly',\n",
       " 'stayed nights',\n",
       " 'walking distance'}"
      ]
     },
     "execution_count": 17,
     "metadata": {},
     "output_type": "execute_result"
    }
   ],
   "source": [
    "## Check for common words in highest rated reviews\n",
    "set([x[0] for x in bigram_rat3])\\\n",
    "&set([x[0] for x in bigram_rat4])\\\n",
    "&set([x[0] for x in bigram_rat5])"
   ]
  },
  {
   "cell_type": "code",
   "execution_count": 18,
   "metadata": {
    "execution": {
     "iopub.execute_input": "2020-10-31T12:26:12.536561Z",
     "iopub.status.busy": "2020-10-31T12:26:12.535570Z",
     "iopub.status.idle": "2020-10-31T12:26:12.540311Z",
     "shell.execute_reply": "2020-10-31T12:26:12.539586Z"
    },
    "papermill": {
     "duration": 0.057768,
     "end_time": "2020-10-31T12:26:12.540458",
     "exception": false,
     "start_time": "2020-10-31T12:26:12.482690",
     "status": "completed"
    },
    "tags": []
   },
   "outputs": [
    {
     "data": {
      "text/plain": [
       "{'punta cana', 'san juan'}"
      ]
     },
     "execution_count": 18,
     "metadata": {},
     "output_type": "execute_result"
    }
   ],
   "source": [
    "#Check for common words in least rated reviews\n",
    "set([x[0] for x in bigram_rat1])&set([x[0] for x in bigram_rat2])&set([x[0] for x in bigram_rat3])\n"
   ]
  },
  {
   "cell_type": "markdown",
   "metadata": {
    "papermill": {
     "duration": 0.045052,
     "end_time": "2020-10-31T12:26:12.631761",
     "exception": false,
     "start_time": "2020-10-31T12:26:12.586709",
     "status": "completed"
    },
    "tags": []
   },
   "source": [
    "Analysis of the bigrams for the ratings provides us the following insight:\n",
    "\n",
    "1.There are bigrams which are more common in all the reviews.\n",
    "\n",
    "2.great location,staff friendly,staff helpful,stayed nights,walking nights were more pronunced as the rating moves from 3 to 5 whereas stay away,customer service,make sure were few bigrams which were seen in reviews with rating 1-3.\n",
    "\n",
    "4.Punta cana and San Juan are names of places which were found in almost all of the reviews irrespective of the rating.\n",
    "\n",
    "For trigram analysis,Lets remove these common location names and check the corpus."
   ]
  },
  {
   "cell_type": "code",
   "execution_count": 19,
   "metadata": {
    "execution": {
     "iopub.execute_input": "2020-10-31T12:26:12.733579Z",
     "iopub.status.busy": "2020-10-31T12:26:12.732500Z",
     "iopub.status.idle": "2020-10-31T12:26:12.736143Z",
     "shell.execute_reply": "2020-10-31T12:26:12.735373Z"
    },
    "papermill": {
     "duration": 0.058097,
     "end_time": "2020-10-31T12:26:12.736278",
     "exception": false,
     "start_time": "2020-10-31T12:26:12.678181",
     "status": "completed"
    },
    "tags": []
   },
   "outputs": [],
   "source": [
    "def get_trigram(df,n):\n",
    "   \n",
    "    vec=CountVectorizer(ngram_range=(3,3),stop_words=stopwrds).fit(df)\n",
    "    bag_of_words=vec.transform(df)\n",
    "    sum_words=bag_of_words.sum(0)\n",
    "    word_freq=[(word,sum_words[0,idx]) for word,idx in vec.vocabulary_.items()]\n",
    "    word_freq=sorted(word_freq,key=lambda x:x[1],reverse=True)\n",
    "    return word_freq[:n]"
   ]
  },
  {
   "cell_type": "code",
   "execution_count": 20,
   "metadata": {
    "execution": {
     "iopub.execute_input": "2020-10-31T12:26:12.835802Z",
     "iopub.status.busy": "2020-10-31T12:26:12.835016Z",
     "iopub.status.idle": "2020-10-31T12:26:14.437086Z",
     "shell.execute_reply": "2020-10-31T12:26:14.436324Z"
    },
    "papermill": {
     "duration": 1.655388,
     "end_time": "2020-10-31T12:26:14.437242",
     "exception": false,
     "start_time": "2020-10-31T12:26:12.781854",
     "status": "completed"
    },
    "tags": []
   },
   "outputs": [
    {
     "data": {
      "text/plain": [
       "[('year old son', 14),\n",
       " ('king size bed', 13),\n",
       " ('melia caribe tropical', 12),\n",
       " ('holiday inn express', 10),\n",
       " ('staff extremely rude', 10),\n",
       " ('credit card details', 10),\n",
       " ('called desk told', 9),\n",
       " ('make matters worse', 9),\n",
       " ('reviews trip advisor', 9),\n",
       " ('long story short', 9)]"
      ]
     },
     "execution_count": 20,
     "metadata": {},
     "output_type": "execute_result"
    }
   ],
   "source": [
    "trigram_rat1=get_trigram(data.loc[data['Rating']==1,'Review'].apply(lambda x:\" \".join(sent for sent in x.split() if sent not in ['did','not','hotel','room','does','san','juan','punta','cana'])),10)\n",
    "trigram_rat1"
   ]
  },
  {
   "cell_type": "code",
   "execution_count": 21,
   "metadata": {
    "execution": {
     "iopub.execute_input": "2020-10-31T12:26:14.540006Z",
     "iopub.status.busy": "2020-10-31T12:26:14.539217Z",
     "iopub.status.idle": "2020-10-31T12:26:16.834509Z",
     "shell.execute_reply": "2020-10-31T12:26:16.833771Z"
    },
    "papermill": {
     "duration": 2.351099,
     "end_time": "2020-10-31T12:26:16.834653",
     "exception": false,
     "start_time": "2020-10-31T12:26:14.483554",
     "status": "completed"
    },
    "tags": []
   },
   "outputs": [
    {
     "data": {
      "text/plain": [
       "[('king size bed', 29),\n",
       " ('staff friendly helpful', 24),\n",
       " ('reviews trip advisor', 15),\n",
       " ('la carte restaurants', 13),\n",
       " ('good value money', 12),\n",
       " ('coffee making facilities', 11),\n",
       " ('free internet access', 10),\n",
       " ('10 minute walk', 10),\n",
       " ('non smoking rooms', 10),\n",
       " ('let start saying', 10)]"
      ]
     },
     "execution_count": 21,
     "metadata": {},
     "output_type": "execute_result"
    }
   ],
   "source": [
    "trigram_rat2=get_trigram(data.loc[data['Rating']==2,'Review'].apply(lambda x:\" \".join(sent for sent in x.split() if sent not in ['did','not','hotel','room','does','san','juan','punta','cana'])),10)\n",
    "trigram_rat2"
   ]
  },
  {
   "cell_type": "code",
   "execution_count": 22,
   "metadata": {
    "execution": {
     "iopub.execute_input": "2020-10-31T12:26:16.937075Z",
     "iopub.status.busy": "2020-10-31T12:26:16.936220Z",
     "iopub.status.idle": "2020-10-31T12:26:19.473736Z",
     "shell.execute_reply": "2020-10-31T12:26:19.472934Z"
    },
    "papermill": {
     "duration": 2.592401,
     "end_time": "2020-10-31T12:26:19.473871",
     "exception": false,
     "start_time": "2020-10-31T12:26:16.881470",
     "status": "completed"
    },
    "tags": []
   },
   "outputs": [
    {
     "data": {
      "text/plain": [
       "[('staff friendly helpful', 54),\n",
       " ('king size bed', 32),\n",
       " ('good value money', 31),\n",
       " ('10 minute walk', 29),\n",
       " ('flat screen tv', 27),\n",
       " ('la carte restaurants', 20),\n",
       " ('good location stayed', 18),\n",
       " ('15 minute walk', 17),\n",
       " ('clean staff friendly', 17),\n",
       " ('red light district', 17)]"
      ]
     },
     "execution_count": 22,
     "metadata": {},
     "output_type": "execute_result"
    }
   ],
   "source": [
    "trigram_rat3=get_trigram(data.loc[data['Rating']==3,'Review'].apply(lambda x:\" \".join(sent for sent in x.split() if sent not in ['did','not','hotel','room','does','san','juan','punta','cana'])),10)\n",
    "trigram_rat3"
   ]
  },
  {
   "cell_type": "code",
   "execution_count": 23,
   "metadata": {
    "execution": {
     "iopub.execute_input": "2020-10-31T12:26:19.577994Z",
     "iopub.status.busy": "2020-10-31T12:26:19.577123Z",
     "iopub.status.idle": "2020-10-31T12:26:26.599829Z",
     "shell.execute_reply": "2020-10-31T12:26:26.599067Z"
    },
    "papermill": {
     "duration": 7.078527,
     "end_time": "2020-10-31T12:26:26.599955",
     "exception": false,
     "start_time": "2020-10-31T12:26:19.521428",
     "status": "completed"
    },
    "tags": []
   },
   "outputs": [
    {
     "data": {
      "text/plain": [
       "[('staff friendly helpful', 298),\n",
       " ('good value money', 125),\n",
       " ('10 minute walk', 99),\n",
       " ('great place stay', 98),\n",
       " ('flat screen tv', 89),\n",
       " ('easy walking distance', 85),\n",
       " ('la carte restaurants', 85),\n",
       " ('king size bed', 73),\n",
       " ('staff helpful friendly', 68),\n",
       " ('free internet access', 68)]"
      ]
     },
     "execution_count": 23,
     "metadata": {},
     "output_type": "execute_result"
    }
   ],
   "source": [
    "trigram_rat4=get_trigram(data.loc[data['Rating']==4,'Review'].apply(lambda x:\" \".join(sent for sent in x.split() if sent not in ['did','not','hotel','room','does','san','juan','punta','cana'])),10)\n",
    "trigram_rat4"
   ]
  },
  {
   "cell_type": "code",
   "execution_count": 24,
   "metadata": {
    "execution": {
     "iopub.execute_input": "2020-10-31T12:26:26.703656Z",
     "iopub.status.busy": "2020-10-31T12:26:26.702851Z",
     "iopub.status.idle": "2020-10-31T12:26:35.918280Z",
     "shell.execute_reply": "2020-10-31T12:26:35.918934Z"
    },
    "papermill": {
     "duration": 9.2713,
     "end_time": "2020-10-31T12:26:35.919099",
     "exception": false,
     "start_time": "2020-10-31T12:26:26.647799",
     "status": "completed"
    },
    "tags": []
   },
   "outputs": [
    {
     "data": {
      "text/plain": [
       "[('staff friendly helpful', 403),\n",
       " ('great place stay', 169),\n",
       " ('flat screen tv', 151),\n",
       " ('king size bed', 114),\n",
       " ('10 minute walk', 114),\n",
       " ('staff helpful friendly', 104),\n",
       " ('great location great', 100),\n",
       " ('free internet access', 100),\n",
       " ('easy walking distance', 96),\n",
       " ('staff extremely helpful', 94)]"
      ]
     },
     "execution_count": 24,
     "metadata": {},
     "output_type": "execute_result"
    }
   ],
   "source": [
    "trigram_rat5=get_trigram(data.loc[data['Rating']==5,'Review'].apply(lambda x:\" \".join(sent for sent in x.split() if sent not in ['did','not','hotel','room','does','san','juan','punta','cana'])),10)\n",
    "trigram_rat5"
   ]
  },
  {
   "cell_type": "code",
   "execution_count": 25,
   "metadata": {
    "execution": {
     "iopub.execute_input": "2020-10-31T12:26:36.025873Z",
     "iopub.status.busy": "2020-10-31T12:26:36.024671Z",
     "iopub.status.idle": "2020-10-31T12:26:36.030377Z",
     "shell.execute_reply": "2020-10-31T12:26:36.029618Z"
    },
    "papermill": {
     "duration": 0.062312,
     "end_time": "2020-10-31T12:26:36.030530",
     "exception": false,
     "start_time": "2020-10-31T12:26:35.968218",
     "status": "completed"
    },
    "tags": []
   },
   "outputs": [
    {
     "data": {
      "text/plain": [
       "{'10 minute walk', 'flat screen tv', 'king size bed', 'staff friendly helpful'}"
      ]
     },
     "execution_count": 25,
     "metadata": {},
     "output_type": "execute_result"
    }
   ],
   "source": [
    "## Check for common words in highest rated reviews\n",
    "set([x[0] for x in trigram_rat3])\\\n",
    "&set([x[0] for x in trigram_rat4])\\\n",
    "&set([x[0] for x in trigram_rat5])"
   ]
  },
  {
   "cell_type": "code",
   "execution_count": 26,
   "metadata": {
    "execution": {
     "iopub.execute_input": "2020-10-31T12:26:36.139055Z",
     "iopub.status.busy": "2020-10-31T12:26:36.137930Z",
     "iopub.status.idle": "2020-10-31T12:26:36.143725Z",
     "shell.execute_reply": "2020-10-31T12:26:36.144635Z"
    },
    "papermill": {
     "duration": 0.064977,
     "end_time": "2020-10-31T12:26:36.144884",
     "exception": false,
     "start_time": "2020-10-31T12:26:36.079907",
     "status": "completed"
    },
    "tags": []
   },
   "outputs": [
    {
     "data": {
      "text/plain": [
       "{'king size bed'}"
      ]
     },
     "execution_count": 26,
     "metadata": {},
     "output_type": "execute_result"
    }
   ],
   "source": [
    "## Check for common words in least rated reviews\n",
    "set([x[0] for x in trigram_rat1])\\\n",
    "&set([x[0] for x in trigram_rat2])\\\n",
    "&set([x[0] for x in trigram_rat3])"
   ]
  },
  {
   "cell_type": "markdown",
   "metadata": {
    "papermill": {
     "duration": 0.060552,
     "end_time": "2020-10-31T12:26:36.261547",
     "exception": false,
     "start_time": "2020-10-31T12:26:36.200995",
     "status": "completed"
    },
    "tags": []
   },
   "source": [
    "Similar to bigram analysis,trigram analysis presents us imporant insights:\n",
    "\n",
    "1.There are common words in highest rated reviews among the top 10 most common words. - 10 minute walk,flat screen tv,staff friendly helpful are a few.\n",
    "\n",
    "2.King size bed is the common trigram which appears in all the reviews across the rating."
   ]
  },
  {
   "cell_type": "markdown",
   "metadata": {
    "papermill": {
     "duration": 0.049253,
     "end_time": "2020-10-31T12:26:36.366200",
     "exception": false,
     "start_time": "2020-10-31T12:26:36.316947",
     "status": "completed"
    },
    "tags": []
   },
   "source": [
    "From the n-gram analysis of words,it is seen that there are many words which appear across the reviews and this is a challenge since it might make our model difficult to distinguish between the ratings.\n",
    "\n",
    "Lets see if we can find any difference in the length,number of words etc across the rating."
   ]
  },
  {
   "cell_type": "markdown",
   "metadata": {
    "papermill": {
     "duration": 0.049156,
     "end_time": "2020-10-31T12:26:36.465302",
     "exception": false,
     "start_time": "2020-10-31T12:26:36.416146",
     "status": "completed"
    },
    "tags": []
   },
   "source": [
    "### Feature Engineering"
   ]
  },
  {
   "cell_type": "code",
   "execution_count": 27,
   "metadata": {
    "execution": {
     "iopub.execute_input": "2020-10-31T12:26:36.612952Z",
     "iopub.status.busy": "2020-10-31T12:26:36.586981Z",
     "iopub.status.idle": "2020-10-31T12:26:38.616351Z",
     "shell.execute_reply": "2020-10-31T12:26:38.615651Z"
    },
    "papermill": {
     "duration": 2.100418,
     "end_time": "2020-10-31T12:26:38.616548",
     "exception": false,
     "start_time": "2020-10-31T12:26:36.516130",
     "status": "completed"
    },
    "tags": []
   },
   "outputs": [],
   "source": [
    "data['length']=data['Review'].apply(lambda x:len(x.split()))\n",
    "data['num_chars']=data['Review'].apply(lambda x:len(str(x)))\n",
    "data['num_punctuations']=data['Review'].apply(lambda x:len([c for c in x if x in string.punctuation]))\n",
    "data['num_stopwords']=data['Review'].apply(lambda x:len([c for c in str(x).lower().split() if c in stopwrds]))"
   ]
  },
  {
   "cell_type": "code",
   "execution_count": 28,
   "metadata": {
    "execution": {
     "iopub.execute_input": "2020-10-31T12:26:38.750284Z",
     "iopub.status.busy": "2020-10-31T12:26:38.747639Z",
     "iopub.status.idle": "2020-10-31T12:26:39.590683Z",
     "shell.execute_reply": "2020-10-31T12:26:39.591302Z"
    },
    "papermill": {
     "duration": 0.917537,
     "end_time": "2020-10-31T12:26:39.591488",
     "exception": false,
     "start_time": "2020-10-31T12:26:38.673951",
     "status": "completed"
    },
    "tags": []
   },
   "outputs": [
    {
     "data": {
      "text/plain": [
       "Text(0, 0.5, 'Num Stopwords')"
      ]
     },
     "execution_count": 28,
     "metadata": {},
     "output_type": "execute_result"
    },
    {
     "data": {
      "image/png": "[encoded data removed]",
      "text/plain": [
       "<Figure size 1080x720 with 4 Axes>"
      ]
     },
     "metadata": {
      "needs_background": "light"
     },
     "output_type": "display_data"
    }
   ],
   "source": [
    "plt.figure(figsize=(15,10))\n",
    "plt.subplot(2,2,1)\n",
    "sns.boxplot(x='Rating',y='length',data=data,palette=sns.color_palette('colorblind'))\n",
    "plt.title('Distribution of Length by Rating',fontsize=15)\n",
    "plt.xlabel('Rating',fontsize=8)\n",
    "plt.ylabel('Length',fontsize=8)\n",
    "plt.subplot(2,2,2)\n",
    "sns.boxplot(x='Rating',y='num_chars',data=data,palette=sns.color_palette('colorblind'))\n",
    "plt.title('Distribution of Number of Characters by Rating',fontsize=15)\n",
    "plt.xlabel('Rating',fontsize=8)\n",
    "plt.ylabel('Num Chars',fontsize=8)\n",
    "plt.subplot(2,2,3)\n",
    "sns.boxplot(x='Rating',y='num_punctuations',data=data,palette=sns.color_palette('colorblind'))\n",
    "plt.title('Distribution of Num Punctuations by Rating',fontsize=15)\n",
    "plt.xlabel('Rating',fontsize=8)\n",
    "plt.ylabel('Num Punctuations',fontsize=8)\n",
    "plt.subplot(2,2,4)\n",
    "sns.boxplot(x='Rating',y='num_stopwords',data=data,palette=sns.color_palette('colorblind'))\n",
    "plt.title('Distribution of Stopwords by Rating',fontsize=15)\n",
    "plt.xlabel('Rating',fontsize=8)\n",
    "plt.ylabel('Num Stopwords',fontsize=8)"
   ]
  },
  {
   "cell_type": "markdown",
   "metadata": {
    "papermill": {
     "duration": 0.053218,
     "end_time": "2020-10-31T12:26:39.698123",
     "exception": false,
     "start_time": "2020-10-31T12:26:39.644905",
     "status": "completed"
    },
    "tags": []
   },
   "source": [
    "* There is a slight difference in the median length of the reviews with respect to each rating.But the difference is not pronunced much.Rating 5 has lesser median value compared to other ratings.\n",
    "\n",
    "* Similarly when the number of characters is considered,rating 5 has a smaller median value compared to other.But the difference is not easily distinguishable.\n",
    "\n",
    "* An empty plot for the punctuation indicates that there are no reviews having punctuations !!! Strange ..\n",
    "\n",
    "* The number of stopwords with respect to each rating is also dominated by lot of outliers.Those providing ratings of 5 are using more stopwords compared to other ratings."
   ]
  },
  {
   "cell_type": "markdown",
   "metadata": {
    "papermill": {
     "duration": 0.053049,
     "end_time": "2020-10-31T12:26:39.804367",
     "exception": false,
     "start_time": "2020-10-31T12:26:39.751318",
     "status": "completed"
    },
    "tags": []
   },
   "source": [
    "## Basic Modelling"
   ]
  },
  {
   "cell_type": "code",
   "execution_count": 29,
   "metadata": {
    "execution": {
     "iopub.execute_input": "2020-10-31T12:26:39.917320Z",
     "iopub.status.busy": "2020-10-31T12:26:39.916296Z",
     "iopub.status.idle": "2020-10-31T12:26:39.919936Z",
     "shell.execute_reply": "2020-10-31T12:26:39.919291Z"
    },
    "papermill": {
     "duration": 0.062305,
     "end_time": "2020-10-31T12:26:39.920055",
     "exception": false,
     "start_time": "2020-10-31T12:26:39.857750",
     "status": "completed"
    },
    "tags": []
   },
   "outputs": [],
   "source": [
    "kf=StratifiedKFold(n_splits=5,random_state=42,shuffle=True)"
   ]
  },
  {
   "cell_type": "code",
   "execution_count": 30,
   "metadata": {
    "execution": {
     "iopub.execute_input": "2020-10-31T12:26:40.035031Z",
     "iopub.status.busy": "2020-10-31T12:26:40.033950Z",
     "iopub.status.idle": "2020-10-31T12:26:40.037326Z",
     "shell.execute_reply": "2020-10-31T12:26:40.036567Z"
    },
    "papermill": {
     "duration": 0.063763,
     "end_time": "2020-10-31T12:26:40.037472",
     "exception": false,
     "start_time": "2020-10-31T12:26:39.973709",
     "status": "completed"
    },
    "tags": []
   },
   "outputs": [],
   "source": [
    "feat=['length', 'num_chars', 'num_punctuations', 'num_stopwords']"
   ]
  },
  {
   "cell_type": "code",
   "execution_count": 31,
   "metadata": {
    "execution": {
     "iopub.execute_input": "2020-10-31T12:26:40.157707Z",
     "iopub.status.busy": "2020-10-31T12:26:40.156869Z",
     "iopub.status.idle": "2020-10-31T12:26:40.161127Z",
     "shell.execute_reply": "2020-10-31T12:26:40.161693Z"
    },
    "papermill": {
     "duration": 0.069167,
     "end_time": "2020-10-31T12:26:40.161867",
     "exception": false,
     "start_time": "2020-10-31T12:26:40.092700",
     "status": "completed"
    },
    "tags": []
   },
   "outputs": [],
   "source": [
    "encoding_dict={1:0,\n",
    "              2:1,\n",
    "              3:2,\n",
    "              4:3,\n",
    "              5:4}\n",
    "data['Rating']=data['Rating'].map(encoding_dict)"
   ]
  },
  {
   "cell_type": "code",
   "execution_count": 32,
   "metadata": {
    "execution": {
     "iopub.execute_input": "2020-10-31T12:26:40.276188Z",
     "iopub.status.busy": "2020-10-31T12:26:40.275092Z",
     "iopub.status.idle": "2020-10-31T12:26:40.282690Z",
     "shell.execute_reply": "2020-10-31T12:26:40.283236Z"
    },
    "papermill": {
     "duration": 0.067392,
     "end_time": "2020-10-31T12:26:40.283419",
     "exception": false,
     "start_time": "2020-10-31T12:26:40.216027",
     "status": "completed"
    },
    "tags": []
   },
   "outputs": [
    {
     "data": {
      "text/plain": [
       "4    9054\n",
       "3    6039\n",
       "2    2184\n",
       "1    1793\n",
       "0    1421\n",
       "Name: Rating, dtype: int64"
      ]
     },
     "execution_count": 32,
     "metadata": {},
     "output_type": "execute_result"
    }
   ],
   "source": [
    "data['Rating'].value_counts()"
   ]
  },
  {
   "cell_type": "code",
   "execution_count": 33,
   "metadata": {
    "execution": {
     "iopub.execute_input": "2020-10-31T12:26:40.399831Z",
     "iopub.status.busy": "2020-10-31T12:26:40.399054Z",
     "iopub.status.idle": "2020-10-31T12:26:41.741300Z",
     "shell.execute_reply": "2020-10-31T12:26:41.740464Z"
    },
    "papermill": {
     "duration": 1.404321,
     "end_time": "2020-10-31T12:26:41.741448",
     "exception": false,
     "start_time": "2020-10-31T12:26:40.337127",
     "status": "completed"
    },
    "tags": []
   },
   "outputs": [],
   "source": [
    "nlp=spacy.load('en_core_web_sm',disable=['ner','parser','tagger'])\n",
    "\n",
    "def spacy_tokenizer(text):\n",
    "    tokens=[x.text for x in nlp(text)]\n",
    "    tokens=[tok.strip() for tok in tokens]\n",
    "    ## remove most common terms identified from n-gram analysis,\n",
    "    tokens=[tok for tok in tokens if tok!='' and tok not in ['did','not','hotel','room','does','san','juan','punta','cana']]\n",
    "    return tokens"
   ]
  },
  {
   "cell_type": "markdown",
   "metadata": {
    "papermill": {
     "duration": 0.053965,
     "end_time": "2020-10-31T12:26:41.849146",
     "exception": false,
     "start_time": "2020-10-31T12:26:41.795181",
     "status": "completed"
    },
    "tags": []
   },
   "source": [
    "## Using TF-IDF and Random Forest Model"
   ]
  },
  {
   "cell_type": "code",
   "execution_count": 34,
   "metadata": {
    "execution": {
     "iopub.execute_input": "2020-10-31T12:26:41.976464Z",
     "iopub.status.busy": "2020-10-31T12:26:41.970701Z",
     "iopub.status.idle": "2020-10-31T12:34:02.912824Z",
     "shell.execute_reply": "2020-10-31T12:34:02.913720Z"
    },
    "papermill": {
     "duration": 441.011136,
     "end_time": "2020-10-31T12:34:02.913952",
     "exception": false,
     "start_time": "2020-10-31T12:26:41.902816",
     "status": "completed"
    },
    "tags": []
   },
   "outputs": [
    {
     "name": "stdout",
     "output_type": "stream",
     "text": [
      "Fold 1 Training ...\n",
      "Fold 1 f1 score 0.25582635768998585\n",
      "Fold 2 Training ...\n",
      "Fold 2 f1 score 0.24485567000494543\n",
      "Fold 3 Training ...\n",
      "Fold 3 f1 score 0.24648984423464518\n",
      "Fold 4 Training ...\n",
      "Fold 4 f1 score 0.24691691595672466\n",
      "Fold 5 Training ...\n",
      "Fold 5 f1 score 0.2412705553976206\n",
      "Overall OOF f1 score 0.24708040498480938\n"
     ]
    }
   ],
   "source": [
    "oof_preds_tfidf=np.zeros((len(data),1))\n",
    "for i,(trn_idx,val_idx) in enumerate(kf.split(data['Review'],data['Rating'])):\n",
    "    print(f'Fold {i+1} Training ...')\n",
    "    train_x=data.iloc[trn_idx,].reset_index(drop=True)\n",
    "    valid_x=data.iloc[val_idx,].reset_index(drop=True)\n",
    "    train_y=data.iloc[trn_idx,1].values\n",
    "    valid_y=data.iloc[val_idx,1].values\n",
    "    \n",
    "    word_vectorizer=TfidfVectorizer(analyzer='word',tokenizer=spacy_tokenizer,\n",
    "                       token_pattern=r'\\w{1,}',\n",
    "                       stop_words=stopwrds,\n",
    "                      ngram_range=(1,3),max_features=8000)\n",
    "    \n",
    "    word_vectorizer.fit(list(train_x['Review'].values))\n",
    "    train_word_vec=word_vectorizer.transform(list(train_x['Review']))\n",
    "    valid_word_vec=word_vectorizer.transform(list(valid_x['Review']))\n",
    "    train_x_sparse=hstack((csr_matrix(train_x[feat]),train_word_vec))\n",
    "    valid_x_sparse=hstack((csr_matrix(valid_x[feat]),valid_word_vec))\n",
    "    rf=RandomForestClassifier(n_estimators=500,\n",
    "                             max_depth=20,\n",
    "                             max_features='auto',\n",
    "                             min_samples_split=5,\n",
    "                             bootstrap=True,\n",
    "                             n_jobs=-1,\n",
    "                             random_state=42,\n",
    "                             verbose=False)\n",
    "    rf.fit(train_x_sparse,train_y)\n",
    "    preds=rf.predict(valid_x_sparse)\n",
    "    score=f1_score(valid_y,preds,average='macro')\n",
    "    print(f'Fold {i+1} f1 score {score}')\n",
    "    oof_preds_tfidf[val_idx]=preds.reshape(-1,1)\n",
    "oof_score_tfidf=f1_score(data['Rating'],oof_preds_tfidf.astype('int'),average='macro')\n",
    "print(f'Overall OOF f1 score {oof_score_tfidf}')"
   ]
  },
  {
   "cell_type": "markdown",
   "metadata": {
    "papermill": {
     "duration": 0.060262,
     "end_time": "2020-10-31T12:34:03.049969",
     "exception": false,
     "start_time": "2020-10-31T12:34:02.989707",
     "status": "completed"
    },
    "tags": []
   },
   "source": [
    "### Using Count Vectorizer and Random Forest"
   ]
  },
  {
   "cell_type": "code",
   "execution_count": 35,
   "metadata": {
    "execution": {
     "iopub.execute_input": "2020-10-31T12:34:03.190996Z",
     "iopub.status.busy": "2020-10-31T12:34:03.180591Z",
     "iopub.status.idle": "2020-10-31T12:41:14.210518Z",
     "shell.execute_reply": "2020-10-31T12:41:14.211229Z"
    },
    "papermill": {
     "duration": 431.098618,
     "end_time": "2020-10-31T12:41:14.211431",
     "exception": false,
     "start_time": "2020-10-31T12:34:03.112813",
     "status": "completed"
    },
    "tags": []
   },
   "outputs": [
    {
     "name": "stdout",
     "output_type": "stream",
     "text": [
      "Fold 1 Training ...\n",
      "Fold 1 f1 score 0.2512028165902196\n",
      "Fold 2 Training ...\n",
      "Fold 2 f1 score 0.24022727697981772\n",
      "Fold 3 Training ...\n",
      "Fold 3 f1 score 0.25537408282538204\n",
      "Fold 4 Training ...\n",
      "Fold 4 f1 score 0.24996516439519373\n",
      "Fold 5 Training ...\n",
      "Fold 5 f1 score 0.25051643744568103\n",
      "Overall OOF f1 score 0.24948795293654297\n"
     ]
    }
   ],
   "source": [
    "oof_preds_cv=np.zeros((len(data),1))\n",
    "for i,(trn_idx,val_idx) in enumerate(kf.split(data['Review'],data['Rating'])):\n",
    "    print(f'Fold {i+1} Training ...')\n",
    "    train_x=data.iloc[trn_idx,].reset_index(drop=True)\n",
    "    valid_x=data.iloc[val_idx,].reset_index(drop=True)\n",
    "    train_y=data.iloc[trn_idx,1].values\n",
    "    valid_y=data.iloc[val_idx,1].values\n",
    "    \n",
    "    count_vectorizer=CountVectorizer(analyzer='word',tokenizer=spacy_tokenizer,\n",
    "                       token_pattern=r'\\w{1,}',\n",
    "                       stop_words=stopwrds,\n",
    "                      ngram_range=(1,3),max_features=8000)\n",
    "    \n",
    "    count_vectorizer.fit(list(train_x['Review'].values))\n",
    "    train_word_vec=count_vectorizer.transform(list(train_x['Review']))\n",
    "    valid_word_vec=count_vectorizer.transform(list(valid_x['Review']))\n",
    "    train_x_sparse=hstack((csr_matrix(train_x[feat]),train_word_vec))\n",
    "    valid_x_sparse=hstack((csr_matrix(valid_x[feat]),valid_word_vec))\n",
    "    rf=RandomForestClassifier(n_estimators=500,\n",
    "                             max_depth=20,\n",
    "                             max_features='auto',\n",
    "                             min_samples_split=5,\n",
    "                             bootstrap=True,\n",
    "                             n_jobs=-1,\n",
    "                             random_state=42,\n",
    "                             verbose=False)\n",
    "    rf.fit(train_x_sparse,train_y)\n",
    "    preds=rf.predict(valid_x_sparse)\n",
    "    score=f1_score(valid_y,preds,average='macro')\n",
    "    print(f'Fold {i+1} f1 score {score}')\n",
    "    oof_preds_cv[val_idx]=preds.reshape(-1,1)\n",
    "oof_score_cv=f1_score(data['Rating'],oof_preds_cv.astype('int'),average='macro')\n",
    "print(f'Overall OOF f1 score {oof_score_cv}')"
   ]
  }
 ],
 "metadata": {
  "kernelspec": {
   "display_name": "Python 3",
   "language": "python",
   "name": "python3"
  },
  "language_info": {
   "codemirror_mode": {
    "name": "ipython",
    "version": 3
   },
   "file_extension": ".py",
   "mimetype": "text/x-python",
   "name": "python",
   "nbconvert_exporter": "python",
   "pygments_lexer": "ipython3",
   "version": "3.7.6"
  },
  "papermill": {
   "duration": 930.698499,
   "end_time": "2020-10-31T12:41:14.380034",
   "environment_variables": {},
   "exception": null,
   "input_path": "__notebook__.ipynb",
   "output_path": "__notebook__.ipynb",
   "parameters": {},
   "start_time": "2020-10-31T12:25:43.681535",
   "version": "2.1.0"
  }
 },
 "nbformat": 4,
 "nbformat_minor": 4
}
